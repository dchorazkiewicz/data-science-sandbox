{
 "cells": [
  {
   "cell_type": "markdown",
   "id": "604b2dc2-c47b-4ade-9da8-8bdf557c3bba",
   "metadata": {},
   "source": [
    "# Simple notebook"
   ]
  },
  {
   "cell_type": "code",
   "execution_count": null,
   "id": "8870164f-f73b-496b-9b0f-117b7f3b58b4",
   "metadata": {},
   "outputs": [],
   "source": [
    "import numpy as np"
   ]
  },
  {
   "cell_type": "code",
   "execution_count": null,
   "id": "9b0a108d-076e-4262-bb60-520ff65aeb0a",
   "metadata": {},
   "outputs": [],
   "source": [
    "a=np.arange(1,3)"
   ]
  },
  {
   "cell_type": "code",
   "execution_count": null,
   "id": "3c8c618c-4b34-41bf-a8a9-36048163ffbf",
   "metadata": {},
   "outputs": [],
   "source": [
    "a"
   ]
  },
  {
   "cell_type": "code",
   "execution_count": null,
   "id": "f1daccfb-bbd3-4c3a-a298-44aa5bf9defd",
   "metadata": {},
   "outputs": [],
   "source": []
  }
 ],
 "metadata": {
  "jupytext": {
   "formats": "ipynb,md"
  },
  "kernelspec": {
   "display_name": "Python 3 (ipykernel)",
   "language": "python",
   "name": "python3"
  },
  "language_info": {
   "codemirror_mode": {
    "name": "ipython",
    "version": 3
   },
   "file_extension": ".py",
   "mimetype": "text/x-python",
   "name": "python",
   "nbconvert_exporter": "python",
   "pygments_lexer": "ipython3",
   "version": "3.10.0"
  }
 },
 "nbformat": 4,
 "nbformat_minor": 5
}
